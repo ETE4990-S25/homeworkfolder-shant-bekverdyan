{
 "cells": [
  {
   "cell_type": "markdown",
   "metadata": {},
   "source": [
    "Your name goes here Pleaese"
   ]
  },
  {
   "cell_type": "markdown",
   "metadata": {},
   "source": [
    "## Objective:\n",
    "The objective of this assignment is to practice using Functional Programing.\n",
    "\n",
    "## Instructions:\n",
    "\n",
    "Using everything we learned to day about Functional Programing, lambda and itters create one of each of the following:\n",
    "-  Basic Lambda Function\n",
    "    - Create a lambda function that takes one arguments and returns even or odd.\n",
    "- Advanced lambda Function\n",
    "    - Create a lambda function that takes a list and returns their sum \n",
    "- Sorting with Lambda\n",
    "- Filtering with Lambda - `filter()` \n",
    "- Mapping with Lambda - `map()`\n",
    "- Reducing with Lambda -  `reduce()` \n",
    "- Enumerate with or without Lambda - `enumerate()`\n",
    "- zip with or without lambda (may combine enumerate like in class) - `zip()`\n",
    "\n",
    "Submit the file as a .py \n",
    "\n",
    "\n"
   ]
  },
  {
   "cell_type": "markdown",
   "metadata": {},
   "source": []
  },
  {
   "cell_type": "code",
   "execution_count": 16,
   "metadata": {},
   "outputs": [
    {
     "name": "stdout",
     "output_type": "stream",
     "text": [
      "67 is <function <lambda> at 0x0000023CEA6E9F80>\n",
      "80 is <function <lambda> at 0x0000023CEA6E9F80>\n",
      "Sum of [10, 14, 63, 121] is 208\n",
      "Top Gear crew sorted by age: [('The Stig', 26), ('Richard Hammond', 55), ('James May', 62), ('Jeremy Clarkson', 64)]\n",
      "Odd numbers: [78, 99, 21, 6, 9]\n",
      "Squared numbers: [4, 81, 100, 144, 225]\n",
      "Product: 32400\n",
      "Index 0: 2001 BMW M5\n",
      "Index 1: 1991 BMW 318i\n",
      "Index 2: 2014 Volkswagon Touareg TDI\n",
      "Combined lists: [('2001 BMW M5', ('Jeremy Clarkson', 64)), ('1991 BMW 318i', ('The Stig', 26)), ('2014 Volkswagon Touareg TDI', ('James May', 62))]\n"
     ]
    }
   ],
   "source": [
    "from functools import reduce\n",
    "\n",
    "\"\"\"basic lambda function, determines if number is even or odd\"\"\"\n",
    "even_odd = lambda x: \"even\" if x % 2 == 0 else \"odd\"\n",
    "print(f\"67 is {even_odd}\")\n",
    "print(f\"80 is {even_odd}\")\n",
    "\n",
    "\"\"\"advanced lambda function, adding\"\"\"\n",
    "add_numbers = lambda numbers: sum(numbers)\n",
    "numbers_list = [10, 14, 63, 121] #208\n",
    "print(f\"Sum of {numbers_list} is {add_numbers(numbers_list)}\")\n",
    "\n",
    "\"\"\"sorting, sorts Top Gear crew from youngest to oldest\"\"\"\n",
    "people = [(\"Jeremy Clarkson\", 64), (\"The Stig\", 26),  (\"James May\", 62), (\"Richard Hammond\", 55)]\n",
    "sort_age = sorted(people, key=lambda person: person[1])\n",
    "print (f\"Top Gear crew sorted by age: {sort_age}\")\n",
    "\n",
    "\"\"\"filter, filter and displays numbers divisible by 3 from list\"\"\"\n",
    "numbers = [34, 78, 99, 101, 10403, 21, 6, 9]\n",
    "divisible_numbers = list(filter(lambda num: num % 3 == 0, numbers))\n",
    "print(f\"Odd numbers: {divisible_numbers}\")\n",
    "\n",
    "\"\"\"mapping, squares all numbers in list\"\"\"\n",
    "sq_num = [2, 9, 10, 12, 15]\n",
    "square_numbers = list(map(lambda x: x**2, sq_num))\n",
    "print(f\"Squared numbers: {square_numbers}\")\n",
    "\n",
    "\"\"\"reducing, gives product (uses same numbers from mapping)\"\"\"\n",
    "product = reduce(lambda x, y: x * y, sq_num)\n",
    "print(f\"Product: {product}\")\n",
    "\n",
    "\"\"\"enumerate, counts item in list\"\"\"\n",
    "cars = [\"2001 BMW M5\", \"1991 BMW 318i\", \"2014 Volkswagon Touareg TDI\"]\n",
    "for index, vehicles in enumerate(cars):\n",
    "    print(f\"Index {index}: {vehicles}\")\n",
    "\n",
    "\"\"\"zip, combines two lists (cars and people)\"\"\"\n",
    "combined = list(zip(cars, people))\n",
    "print(f\"Combined lists: {combined}\")\n"
   ]
  }
 ],
 "metadata": {
  "kernelspec": {
   "display_name": "Python 3",
   "language": "python",
   "name": "python3"
  },
  "language_info": {
   "codemirror_mode": {
    "name": "ipython",
    "version": 3
   },
   "file_extension": ".py",
   "mimetype": "text/x-python",
   "name": "python",
   "nbconvert_exporter": "python",
   "pygments_lexer": "ipython3",
   "version": "3.13.1"
  }
 },
 "nbformat": 4,
 "nbformat_minor": 2
}

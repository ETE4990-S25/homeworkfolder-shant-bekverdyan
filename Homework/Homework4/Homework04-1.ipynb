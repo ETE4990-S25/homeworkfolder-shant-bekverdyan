{
 "cells": [
  {
   "cell_type": "markdown",
   "id": "94336058-4ebc-4a98-9a56-de67b67d5ce5",
   "metadata": {},
   "source": [
    "# Homework #4\n",
    "\n",
    "Develop a function named decode(message_file). \n",
    "\n",
    "This function should read an encoded message from a .txt file and return its decoded version as a string.\n",
    "\n",
    "Your function must be able to process an input file with the following format:\n",
    "\n",
    "```\n",
    "3 love\n",
    "6 computers\n",
    "2 dogs\n",
    "4 cats\n",
    "1 I\n",
    "5 you\n",
    "```\n",
    "\n",
    "In this file, each line contains a number followed by a word. The task is to decode a hidden message based on the arrangement of these numbers into a \"pyramid\" structure. The numbers are placed into the pyramid in ascending order, with each line of the pyramid having one more number than the line above it. The smallest number is 1, and the numbers increase consecutively, like so:\n",
    "\n",
    "```\n",
    "   1\n",
    "  2 3\n",
    " 4 5 6\n",
    "7 8 9 10\n",
    "```\n",
    "\n",
    "The key to decoding the message is to use the words corresponding to the numbers at the end of each pyramid line (in this example, 1, 3, and 6). You should ignore all the other words. So for the example input file above, the message words are:\n",
    "\n",
    "```\n",
    "1: I\n",
    "3: love\n",
    "6: computers\n",
    "```\n",
    "and your function should return the string \"I love computers\".\n",
    "\n"
   ]
  },
  {
   "cell_type": "code",
   "execution_count": null,
   "id": "2532f781-eb6b-4dcc-aad7-b1463a8f51a6",
   "metadata": {},
   "outputs": [
    {
     "name": "stdout",
     "output_type": "stream",
     "text": [
      "I love computers\n"
     ]
    },
    {
     "data": {
      "text/plain": [
       "'I love computers'"
      ]
     },
     "execution_count": 24,
     "metadata": {},
     "output_type": "execute_result"
    }
   ],
   "source": [
    "#help was used on lines 11 to 22 :(\n",
    "\n",
    "def decode(Message):\n",
    "    \"\"\"Decode text file\"\"\"\n",
    "    try:\n",
    "        \"\"\"Opens text file, reads, and closes\"\"\"\n",
    "        my_file = open(Message, 'r')\n",
    "        lines = my_file.readlines()\n",
    "        my_file.close()\n",
    "\n",
    "        number_pair = {}\n",
    "        for line in lines:\n",
    "            line = line.strip()\n",
    "            parts = line.split()\n",
    "\n",
    "            if len(parts) >= 2:\n",
    "                try:\n",
    "                    number = int(parts[0])\n",
    "                    word = parts[1]\n",
    "                    number_pair[number] = word\n",
    "                except ValueError:\n",
    "                    print(f\"Skipping line '{line}'.\")\n",
    "\n",
    "        special_number = []\n",
    "        current_number = 1\n",
    "        step = 2\n",
    "\n",
    "        while current_number in number_pair:\n",
    "            special_number.append(current_number)\n",
    "            current_number = current_number + step\n",
    "            step = step + 1\n",
    "\n",
    "        picked_words = []\n",
    "        for number in special_number:\n",
    "            if number in number_pair:\n",
    "                picked_words.append(number_pair[number])\n",
    "\n",
    "        \"\"\"Prints decoded message\"\"\"\n",
    "        decoded_message = ' '.join(picked_words)\n",
    "        print(decoded_message)\n",
    "        return decoded_message\n",
    "        \"\"\"Closes loop\"\"\"\n",
    "    except FileNotFoundError:\n",
    "        print(f\"File '{Message.txt}' not found.\")\n",
    "        return None\n",
    "\n",
    "decode(\"Message.txt\")\n",
    "\n"
   ]
  }
 ],
 "metadata": {
  "kernelspec": {
   "display_name": "Python 3",
   "language": "python",
   "name": "python3"
  },
  "language_info": {
   "codemirror_mode": {
    "name": "ipython",
    "version": 3
   },
   "file_extension": ".py",
   "mimetype": "text/x-python",
   "name": "python",
   "nbconvert_exporter": "python",
   "pygments_lexer": "ipython3",
   "version": "3.13.2"
  }
 },
 "nbformat": 4,
 "nbformat_minor": 5
}

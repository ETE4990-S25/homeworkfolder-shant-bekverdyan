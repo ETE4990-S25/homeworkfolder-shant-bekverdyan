{
 "cells": [
  {
   "cell_type": "markdown",
   "metadata": {},
   "source": [
    "# Valentine's Day Lab Assignment\n",
    "Picking a Romantic Movie\n",
    "\n",
    "## Instructions:\n",
    "1. Download a dataset of romantic movies from a public dataset repository (e.g., Kaggle).\n",
    "   - Example dataset: \"Romantic Movies Dataset\" (ensure it's in JSON format).\n",
    "2. Load the dataset from the JSON file.\n",
    "3. Create a function that helps pick a romantic movie based on user preferences.\n",
    "4. Display the selected movie details.\n",
    "5. Verify the JSON file content\n",
    "\n"
   ]
  },
  {
   "cell_type": "code",
   "execution_count": null,
   "metadata": {},
   "outputs": [],
   "source": [
    "# Sample Code:\n",
    "min_rating = float(input(\"Enter the minimum rating (0-10): \"))\n",
    "max_year = int(input(\"Enter the latest release year: \"))\n",
    "\n",
    "selected_movie = pick_movie(data, min_rating, max_year)\n",
    "\n",
    "if isinstance(selected_movie, str):\n",
    "    print(selected_movie)\n",
    "else:\n",
    "    print(f\"Selected Movie: {selected_movie['Title']}\")\n",
    "    print(f\"Year: {selected_movie['Year']}\")\n",
    "    print(f\"Rating: {selected_movie['Rating']}\")\n",
    "    print(f\"Box Office: ${selected_movie['BoxOffice']} million\")"
   ]
  },
  {
   "cell_type": "code",
   "execution_count": 12,
   "metadata": {},
   "outputs": [
    {
     "name": "stdout",
     "output_type": "stream",
     "text": [
      "\n",
      "Movie Recommendation:\n",
      "Title: Brokeback Mountain\n",
      "Genre: Romance, Western\n",
      "Streaming: Hulu\n"
     ]
    }
   ],
   "source": [
    "import json\n",
    "import random\n",
    "\n",
    "def load_movies(filename):\n",
    "\n",
    "    \"\"\"Loads movie data from json\"\"\"\n",
    "\n",
    "    try:\n",
    "        with open(filename, \"r\") as file:\n",
    "            movie_list = json.load(file)\n",
    "        return movie_list\n",
    "    \n",
    "    except FileNotFoundError:\n",
    "        print(\"Uh oh, movie not found\")\n",
    "        return None\n",
    "\n",
    "def choose_movie(movie_list, user_genre, user_service):\n",
    "\n",
    "    \"\"\"Chooses movie\"\"\"\n",
    "    \n",
    "    if movie_list is None:\n",
    "        return None\n",
    "\n",
    "    movie_matches = []\n",
    "\n",
    "    for movie in movie_list:\n",
    "        genre_check = True\n",
    "        service_check = True\n",
    "\n",
    "        \"\"\"Genre check\"\"\"\n",
    "        \n",
    "        if user_genre:\n",
    "            if user_genre not in movie.get(\"genre\", []):\n",
    "                genre_check = False\n",
    "\n",
    "        \"\"\"Streaming service check\"\"\"\n",
    "\n",
    "        if user_service:\n",
    "            if user_service not in movie.get(\"streaming_service\", []):\n",
    "                service_check = False\n",
    "\n",
    "        if genre_check and service_check:\n",
    "            movie_matches.append(movie)\n",
    "\n",
    "    if not movie_matches:\n",
    "        return None\n",
    "\n",
    "    return random.choice(movie_matches)\n",
    "\n",
    "def display_movie(movie):\n",
    "\n",
    "    \"\"\"Shows movie\"\"\"\n",
    "\n",
    "    if movie:\n",
    "        print(\"\\nMovie Recommendation:\")\n",
    "        print(\"Title:\", movie[\"title\"])\n",
    "        print(\"Genre:\", \", \".join(movie[\"genre\"]))\n",
    "        print(\"Streaming:\", \", \".join(movie[\"streaming_service\"]))\n",
    "    else:\n",
    "        print(\"No movie match found\")\n",
    "\n",
    "    \"\"\"Gets input from user\"\"\"\n",
    "\n",
    "filename = \"movie_data.json\"\n",
    "movies = load_movies(filename)\n",
    "\n",
    "if movies:\n",
    "    genre_input = input(\"Enter movie genre or leave blank: \")\n",
    "    service_input = input(\"Enter service or leave blank:\")\n",
    "    movie_choice = choose_movie(movies, genre_input, service_input)\n",
    "    display_movie(movie_choice)\n",
    "\n",
    "else:\n",
    "    print(\"File error\")"
   ]
  }
 ],
 "metadata": {
  "kernelspec": {
   "display_name": "Python 3",
   "language": "python",
   "name": "python3"
  },
  "language_info": {
   "codemirror_mode": {
    "name": "ipython",
    "version": 3
   },
   "file_extension": ".py",
   "mimetype": "text/x-python",
   "name": "python",
   "nbconvert_exporter": "python",
   "pygments_lexer": "ipython3",
   "version": "3.13.2"
  }
 },
 "nbformat": 4,
 "nbformat_minor": 2
}
